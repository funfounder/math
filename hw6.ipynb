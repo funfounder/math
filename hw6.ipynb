{
 "cells": [
  {
   "cell_type": "code",
   "execution_count": 1,
   "id": "28a4a476",
   "metadata": {},
   "outputs": [],
   "source": [
    "%matplotlib inline\n",
    "import numpy as np\n",
    "import random as rnd\n",
    "import matplotlib.pyplot as plt\n",
    "import matplotlib.mlab as mlab\n",
    "import collections\n",
    "import itertools\n",
    "import sys\n",
    "import math"
   ]
  },
  {
   "cell_type": "markdown",
   "id": "ad6dd13f",
   "metadata": {},
   "source": [
    "Задание (теорема сложения)\n",
    "Найти вероятность выпадения 2 или 5 очков при подбрасывании игральной кости, на гранях которой имеются соответственно 1,2,3,4,5 и 6 очков. \n"
   ]
  },
  {
   "cell_type": "code",
   "execution_count": 5,
   "id": "54dc5d15",
   "metadata": {},
   "outputs": [
    {
     "name": "stdout",
     "output_type": "stream",
     "text": [
      "0.33\n"
     ]
    }
   ],
   "source": [
    "#это несовместные события, следовательно, вероятность будет рассчитываться по формуле:\n",
    "\n",
    "n = 6\n",
    "\n",
    "p_25 = 1/n + 1/n\n",
    "print(round(p_25,2))"
   ]
  },
  {
   "cell_type": "markdown",
   "id": "0ddb6e1a",
   "metadata": {},
   "source": [
    "Задание (теорема умножения)\n",
    "Найти вероятность того, что при двух подбрасываниях той же самой игральной кости сначала выпадет 2, а затем 5."
   ]
  },
  {
   "cell_type": "code",
   "execution_count": 8,
   "id": "a680717f",
   "metadata": {},
   "outputs": [
    {
     "name": "stdout",
     "output_type": "stream",
     "text": [
      "0.03\n"
     ]
    }
   ],
   "source": [
    "#это несовместные и не зависимые события\n",
    "n = 6\n",
    "\n",
    "p_togehter_25 = ((1/n) * (1/n))\n",
    "\n",
    "print(round(p_togehter_25,2))"
   ]
  },
  {
   "cell_type": "markdown",
   "id": "b23e2337",
   "metadata": {},
   "source": [
    "Найти вероятность выпадения 2 и 5 очков при двух подбрасываниях той же самой игральной игральной кости. Обратите внимание на порядок выпадения костей!"
   ]
  },
  {
   "cell_type": "code",
   "execution_count": 9,
   "id": "07ba21ea",
   "metadata": {},
   "outputs": [
    {
     "name": "stdout",
     "output_type": "stream",
     "text": [
      "0.01\n"
     ]
    }
   ],
   "source": [
    "#это несовместные и не зависимые события, вероятность того, что мы сначала выкинем 2, а зеем 5 - 1/2\n",
    "\n",
    "n = 6\n",
    "drop = 0.5\n",
    "\n",
    "p_strict_25 = ((1/n) * (1/n)) * drop\n",
    "\n",
    "print(round(p_strict_25,2))"
   ]
  },
  {
   "cell_type": "markdown",
   "id": "62dd7256",
   "metadata": {},
   "source": [
    "На отрезке AB длиной 20 см наугад отметили точку C. Какова вероятность, что она находится на расстоянии не более 9 см от точки А и не более 15 см от точки В?"
   ]
  },
  {
   "cell_type": "code",
   "execution_count": null,
   "id": "aa4cf598",
   "metadata": {},
   "outputs": [],
   "source": []
  }
 ],
 "metadata": {
  "kernelspec": {
   "display_name": "Python 3",
   "language": "python",
   "name": "python3"
  },
  "language_info": {
   "codemirror_mode": {
    "name": "ipython",
    "version": 3
   },
   "file_extension": ".py",
   "mimetype": "text/x-python",
   "name": "python",
   "nbconvert_exporter": "python",
   "pygments_lexer": "ipython3",
   "version": "3.8.8"
  }
 },
 "nbformat": 4,
 "nbformat_minor": 5
}
