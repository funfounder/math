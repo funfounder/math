{
 "cells": [
  {
   "cell_type": "code",
   "execution_count": 89,
   "id": "fde22be6",
   "metadata": {},
   "outputs": [],
   "source": [
    "%matplotlib inline\n",
    "import numpy as np\n",
    "import random as rnd\n",
    "import matplotlib.pyplot as plt\n",
    "import matplotlib.mlab as mlab\n",
    "import collections\n",
    "import itertools\n",
    "import sys\n",
    "import math"
   ]
  },
  {
   "cell_type": "markdown",
   "id": "aad2a497",
   "metadata": {},
   "source": [
    "1. Напишите код, моделирующий выпадение поля в рулетке (с учетом поля зеро)."
   ]
  },
  {
   "cell_type": "code",
   "execution_count": 20,
   "id": "eaee3372",
   "metadata": {},
   "outputs": [
    {
     "data": {
      "text/plain": [
       "[{28, 'black'}, {8, 'black'}, {36, 'red'}, {8, 'black'}, {0, 'green'}]"
      ]
     },
     "execution_count": 20,
     "metadata": {},
     "output_type": "execute_result"
    }
   ],
   "source": [
    "roulette = {0:'green',1:'red',2:'black',3:'red',4:'black',5:'red',6:'black',7:'red',\n",
    "            8:'black',9:'red',10:'black',11:'black',12:'red',13:'black',14:'red',15:'black',16:'red',\n",
    "            17:'black',18:'red',19:'red',20:'black',21:'red',22:'black',23:'red',24:'black',25:'red',\n",
    "            26:'black',27:'red',28:'black',29:'black',30:'red',31:'black',32:'red',33:'black',34:'red',\n",
    "            35:'black',36:'red'}\n",
    "\n",
    "def spin_roulette(n):\n",
    "    result = []\n",
    "    for i in range(n):\n",
    "        number = rnd.choice(list(roulette.keys()))\n",
    "        color = roulette.get(number)\n",
    "        result.append({number, color})\n",
    "    return result\n",
    "\n",
    "spin_roulette(5)"
   ]
  },
  {
   "cell_type": "markdown",
   "id": "f2145a9f",
   "metadata": {},
   "source": [
    "2.1 Напишите код, проверяющий любую из теорем сложения или умножения вероятности на примере рулетки или подбрасывания монетки.\n",
    "\n",
    "2.2 Сгенерируйте десять выборок случайных чисел х0, …, х9.\n",
    "и постройте гистограмму распределения случайной суммы  +х0+ …+ х 9. "
   ]
  },
  {
   "cell_type": "code",
   "execution_count": 44,
   "id": "d4d54205",
   "metadata": {},
   "outputs": [
    {
     "name": "stdout",
     "output_type": "stream",
     "text": [
      "37 18 18 1 18 18 1\n",
      "1.0\n"
     ]
    }
   ],
   "source": [
    "n = len(roulette)\n",
    "k_red = sum(value == 'red' for value in roulette.values())\n",
    "k_black = sum(value == 'black' for value in roulette.values())\n",
    "k_green = sum(value == 'green' for value in roulette.values())\n",
    "k_even = sum(key % 2 == 0 and key != 0 for key in roulette.keys())\n",
    "k_odd = sum(key % 2 == 0 and key != 0 for key in roulette.keys())\n",
    "k_0 = k_green\n",
    "print(n, k_red, k_black, k_green, k_even, k_odd, k_0)\n",
    "\n",
    "sum_ = k_red / n + k_black / n + k_green / n\n",
    "\n",
    "print(sum_)"
   ]
  },
  {
   "cell_type": "code",
   "execution_count": 74,
   "id": "e5488bc8",
   "metadata": {},
   "outputs": [
    {
     "name": "stdout",
     "output_type": "stream",
     "text": [
      "[3.246262356254195, 3.7450641394554185, 3.8985770705557474, 4.41037829291985, 4.748272618291579, 4.855422642100657, 5.0046492821994635, 5.103471785239934, 5.192854605229627, 5.40833307028385]\n"
     ]
    },
    {
     "data": {
      "text/plain": [
       "Text(0, 0.5, 'frequency')"
      ]
     },
     "execution_count": 74,
     "metadata": {},
     "output_type": "execute_result"
    },
    {
     "data": {
      "image/png": "[encoded data removed]",
      "text/plain": [
       "<Figure size 432x288 with 1 Axes>"
      ]
     },
     "metadata": {
      "needs_background": "light"
     },
     "output_type": "display_data"
    }
   ],
   "source": [
    "samples = {}\n",
    "\n",
    "for i in range(10):\n",
    "    values = np.random.rand(10)\n",
    "    key = sum(values)\n",
    "    samples[key] = values\n",
    "\n",
    "sorted_samples = collections.OrderedDict(sorted(samples.items()))\n",
    "print(list(sorted_samples.keys()))\n",
    "\n",
    "num_bins = 5\n",
    "n, bins, patches = plt.hist(samples.keys(), num_bins)\n",
    "plt.xlabel('sum')\n",
    "plt.ylabel('frequency')"
   ]
  },
  {
   "cell_type": "markdown",
   "id": "a2d625fe",
   "metadata": {},
   "source": [
    "3.1 Дополните код Монте-Карло последовательности независимых испытаний расчетом соответствующих вероятностей (через биномиальное распределение) \n",
    "и сравните результаты."
   ]
  },
  {
   "cell_type": "code",
   "execution_count": 168,
   "id": "75c9aecd",
   "metadata": {},
   "outputs": [
    {
     "name": "stdout",
     "output_type": "stream",
     "text": [
      "[0 1 0 1] [0 0 1 0] [0 0 1 0] [1 0 1 0]\n",
      "[1 1 3 1]\n",
      "0 4 0.0 6.0 0.375 0.375\n"
     ]
    }
   ],
   "source": [
    "k, n = 0, 4\n",
    "a = np.random.randint(0, 2, n)\n",
    "b = np.random.randint(0, 2, n)\n",
    "c = np.random.randint(0, 2, n)\n",
    "d = np.random.randint(0, 2, n)\n",
    "x = a + b + c + d\n",
    "for i in range(0, n): \n",
    "    if x[i] == 2:\n",
    "        k = k + 1\n",
    "\n",
    "#k_check = желаемый успех        \n",
    "k_check = 2\n",
    "\n",
    "c_kn = math.factorial(n) / (math.factorial(k_check) * math.factorial(n - k_check))\n",
    "pnk_simple = c_kn * (1 / 2**n)\n",
    "pnk_full = c_kn * (0.5**k_check)*(0.5**(n-k_check))\n",
    "print(a, b, c, d)\n",
    "print(x)\n",
    "print(k, n, k/n, c_kn, pnk_simple, pnk_full)"
   ]
  },
  {
   "cell_type": "markdown",
   "id": "f00a81e0",
   "metadata": {},
   "source": [
    "3.2 Повторите расчеты биномиальных коэффициентов и вероятностей k успехов в последовательности из n независимых испытаний, взяв другие значения n и k.\n"
   ]
  },
  {
   "cell_type": "code",
   "execution_count": 169,
   "id": "e3e869be",
   "metadata": {},
   "outputs": [
    {
     "name": "stdout",
     "output_type": "stream",
     "text": [
      "6 24 0.25 0.008022546768188477\n"
     ]
    }
   ],
   "source": [
    "k, n = 0, 24\n",
    "a = np.random.randint(0, 2, n)\n",
    "b = np.random.randint(0, 2, n)\n",
    "c = np.random.randint(0, 2, n)\n",
    "d = np.random.randint(0, 2, n)\n",
    "e = np.random.randint(0, 2, n)\n",
    "f = np.random.randint(0, 2, n)\n",
    "\n",
    "x = a + b + c + d + e + f\n",
    "for i in range(0, n): \n",
    "    if x[i] == 2:\n",
    "        k = k + 1\n",
    "\n",
    "#k_check = желаемый успех        \n",
    "k_check = 6\n",
    "\n",
    "c_kn = math.factorial(n) / (math.factorial(k_check) * math.factorial(n - k_check))\n",
    "pnk_full = c_kn * (0.5**k_check)*(0.5**(n-k_check))\n",
    "\n",
    "print(k, n, k/n, pnk_full)"
   ]
  },
  {
   "cell_type": "markdown",
   "id": "00cfcb33",
   "metadata": {},
   "source": [
    "4. Из урока по комбинаторике повторите расчеты, сгенерировав возможные варианты перестановок для других значений n и k"
   ]
  },
  {
   "cell_type": "code",
   "execution_count": 172,
   "id": "b1e8d136",
   "metadata": {},
   "outputs": [
    {
     "name": "stdout",
     "output_type": "stream",
     "text": [
      "012\n",
      "013\n",
      "014\n",
      "021\n",
      "023\n",
      "024\n",
      "031\n",
      "032\n",
      "034\n",
      "041\n",
      "042\n",
      "043\n",
      "102\n",
      "103\n",
      "104\n",
      "120\n",
      "123\n",
      "124\n",
      "130\n",
      "132\n",
      "134\n",
      "140\n",
      "142\n",
      "143\n",
      "201\n",
      "203\n",
      "204\n",
      "210\n",
      "213\n",
      "214\n",
      "230\n",
      "231\n",
      "234\n",
      "240\n",
      "241\n",
      "243\n",
      "301\n",
      "302\n",
      "304\n",
      "310\n",
      "312\n",
      "314\n",
      "320\n",
      "321\n",
      "324\n",
      "340\n",
      "341\n",
      "342\n",
      "401\n",
      "402\n",
      "403\n",
      "410\n",
      "412\n",
      "413\n",
      "420\n",
      "421\n",
      "423\n",
      "430\n",
      "431\n",
      "432\n"
     ]
    }
   ],
   "source": [
    "for p in itertools.permutations ('01234', 3):\n",
    "    print(''.join(str(x) for x in p))"
   ]
  },
  {
   "cell_type": "code",
   "execution_count": 174,
   "id": "fdeb8264",
   "metadata": {},
   "outputs": [
    {
     "name": "stdout",
     "output_type": "stream",
     "text": [
      "012\n",
      "013\n",
      "014\n",
      "023\n",
      "024\n",
      "034\n",
      "123\n",
      "124\n",
      "134\n",
      "234\n"
     ]
    }
   ],
   "source": [
    "for c in itertools.combinations ('01234', 3):\n",
    "    print(''.join(str(x) for x in c))"
   ]
  },
  {
   "cell_type": "code",
   "execution_count": 178,
   "id": "ed1b5076",
   "metadata": {},
   "outputs": [
    {
     "name": "stdout",
     "output_type": "stream",
     "text": [
      "00\n",
      "01\n",
      "02\n",
      "03\n",
      "04\n",
      "10\n",
      "11\n",
      "12\n",
      "13\n",
      "14\n",
      "20\n",
      "21\n",
      "22\n",
      "23\n",
      "24\n",
      "30\n",
      "31\n",
      "32\n",
      "33\n",
      "34\n",
      "40\n",
      "41\n",
      "42\n",
      "43\n",
      "44\n"
     ]
    }
   ],
   "source": [
    "for l in itertools.product(\"01234\",repeat=2):\n",
    "    print(''.join(l))"
   ]
  }
 ],
 "metadata": {
  "kernelspec": {
   "display_name": "Python 3",
   "language": "python",
   "name": "python3"
  },
  "language_info": {
   "codemirror_mode": {
    "name": "ipython",
    "version": 3
   },
   "file_extension": ".py",
   "mimetype": "text/x-python",
   "name": "python",
   "nbconvert_exporter": "python",
   "pygments_lexer": "ipython3",
   "version": "3.8.8"
  }
 },
 "nbformat": 4,
 "nbformat_minor": 5
}
